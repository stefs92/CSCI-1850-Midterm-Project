{
  "nbformat": 4,
  "nbformat_minor": 0,
  "metadata": {
    "colab": {
      "name": "GenomicsProject.ipynb",
      "provenance": [],
      "collapsed_sections": [],
      "machine_shape": "hm"
    },
    "kernelspec": {
      "name": "python3",
      "display_name": "Python 3"
    },
    "accelerator": "GPU"
  },
  "cells": [
    {
      "cell_type": "code",
      "metadata": {
        "id": "9ovQXc7XBXcz",
        "outputId": "b965c199-66c2-438e-9ff6-c5e6d43dd82a",
        "colab": {
          "base_uri": "https://localhost:8080/",
          "height": 122
        }
      },
      "source": [
        "from google.colab import drive\n",
        "drive.mount('/content/drive')\n",
        "from tqdm import tqdm"
      ],
      "execution_count": null,
      "outputs": [
        {
          "output_type": "stream",
          "text": [
            "Go to this URL in a browser: https://accounts.google.com/o/oauth2/auth?client_id=947318989803-6bn6qk8qdgf4n4g3pfee6491hc0brc4i.apps.googleusercontent.com&redirect_uri=urn%3aietf%3awg%3aoauth%3a2.0%3aoob&response_type=code&scope=email%20https%3a%2f%2fwww.googleapis.com%2fauth%2fdocs.test%20https%3a%2f%2fwww.googleapis.com%2fauth%2fdrive%20https%3a%2f%2fwww.googleapis.com%2fauth%2fdrive.photos.readonly%20https%3a%2f%2fwww.googleapis.com%2fauth%2fpeopleapi.readonly\n",
            "\n",
            "Enter your authorization code:\n",
            "··········\n",
            "Mounted at /content/drive\n"
          ],
          "name": "stdout"
        }
      ]
    },
    {
      "cell_type": "code",
      "metadata": {
        "id": "QGp9VohTLTUw",
        "outputId": "ef1d168a-2946-425c-c303-cf5216e8c9a4",
        "colab": {
          "base_uri": "https://localhost:8080/",
          "height": 34
        }
      },
      "source": [
        "cd 'drive/My Drive/GenomicsProject/GenomicsProject'"
      ],
      "execution_count": null,
      "outputs": [
        {
          "output_type": "stream",
          "text": [
            "/content/drive/My Drive/GenomicsProject/GenomicsProject\n"
          ],
          "name": "stdout"
        }
      ]
    },
    {
      "cell_type": "code",
      "metadata": {
        "id": "_WM9ot-1BkUh"
      },
      "source": [
        "import numpy as np\n",
        "\n",
        "# Keys to npzfile of train & eval\n",
        "train_cells = ['E065', 'E004', 'E066', 'E005', 'E012', 'E027', 'E053', 'E013', 'E028', 'E061', 'E109', 'E120', 'E062', 'E037', 'E038', 'E024', 'E105', 'E011', 'E106', 'E082', 'E097', 'E116', 'E098', 'E058', \n",
        "'E117', 'E059', 'E070', 'E118', 'E085', 'E104', 'E119', 'E006', 'E127', 'E047', 'E094', 'E007', 'E054', 'E128', 'E095', 'E055', 'E114', 'E100', 'E056', 'E016', 'E122', 'E057', 'E123', 'E079', 'E003', 'E050']\n",
        "\n",
        "eval_cells = ['E065', 'E004', 'E066', 'E005', 'E012', 'E027', 'E053', 'E013', 'E028', 'E061', 'E109', 'E120', 'E062', 'E037', 'E038', 'E024', 'E071', 'E105', 'E087', 'E011', 'E106', 'E096', 'E082', 'E097', \n",
        "'E116', 'E098', 'E058', 'E117', 'E084', 'E059', 'E070', 'E118', 'E085', 'E104', 'E119', 'E006', 'E112', 'E127', 'E047', 'E094', 'E007', 'E054', 'E113', 'E128', 'E095', 'E055', 'E114', 'E100', 'E056', 'E016', 'E122', 'E057', 'E123', 'E079', 'E003', 'E050']\n",
        "\n",
        "# Load data\n",
        "train_data = np.load('train.npz')\n",
        "eval_data = np.load('eval.npz')\n",
        "\n",
        "# Combine Train Data to use information from all cells\n",
        "train_inputs = [] # Input histone mark data\n",
        "train_outputs = [] # Correct expression value\n",
        "for cell in train_cells:\n",
        "    cell_data = train_data[cell]\n",
        "    hm_data = cell_data[:,:,1:6]\n",
        "    exp_values = cell_data[:,0,6]\n",
        "    train_inputs.append(hm_data)\n",
        "    train_outputs.append(exp_values)\n",
        "\n",
        "train_inputs = np.concatenate(train_inputs, axis=0)\n",
        "train_outputs = np.concatenate(train_outputs, axis=0)\n",
        "\n",
        "# Prepare Eval inputs in similar way\n",
        "eval_inputs = []\n",
        "for cell in eval_cells:\n",
        "    cell_data = eval_data[cell]\n",
        "    hm_data = cell_data[:,:,1:6]\n",
        "    eval_inputs.append(hm_data)\n",
        "\n",
        "eval_inputs = np.concatenate(eval_inputs, axis=0)\n",
        "\n",
        "\n",
        "# Example submission of predicted values\n",
        "import pandas as pd\n",
        "\n",
        "cell_list = []\n",
        "gene_list = []\n",
        "example_eval_preds = np.random.randn(len(eval_inputs))\n",
        "for cell in eval_cells:\n",
        "    cell_data = eval_data[cell]\n",
        "    cell_list.extend([cell]*len(cell_data))\n",
        "    genes = cell_data[:,0,0].astype('int32')\n",
        "    gene_list.extend(genes)\n",
        "\n",
        "id_column = [] # ID is {cell type}_{gene id}\n",
        "for idx in range(len(eval_inputs)):\n",
        "    id_column.append(f'{cell_list[idx]}_{gene_list[idx]}')\n",
        "\n",
        "df_data = {'id': id_column, 'expression' : example_eval_preds}\n",
        "submit_df = pd.DataFrame(data=df_data)\n",
        "\n",
        "submit_df.to_csv('sample_submission.csv', header=True, index=False, index_label=False)\n",
        "\n",
        "train_inputs_flat = train_inputs.reshape((800000,500))"
      ],
      "execution_count": null,
      "outputs": []
    },
    {
      "cell_type": "code",
      "metadata": {
        "id": "FaAOPgjkFp0E",
        "outputId": "49c81871-e872-4978-989b-05a721fb71a5",
        "colab": {
          "base_uri": "https://localhost:8080/",
          "height": 34
        }
      },
      "source": [
        "train_inputs.shape"
      ],
      "execution_count": null,
      "outputs": [
        {
          "output_type": "execute_result",
          "data": {
            "text/plain": [
              "(800000, 100, 5)"
            ]
          },
          "metadata": {
            "tags": []
          },
          "execution_count": 8
        }
      ]
    },
    {
      "cell_type": "code",
      "metadata": {
        "id": "G--CTMw4FtqW",
        "outputId": "8ab5e116-4bdf-404d-f580-35d307eb2f69",
        "colab": {
          "base_uri": "https://localhost:8080/",
          "height": 34
        }
      },
      "source": [
        "train_outputs.shape"
      ],
      "execution_count": null,
      "outputs": [
        {
          "output_type": "execute_result",
          "data": {
            "text/plain": [
              "(800000,)"
            ]
          },
          "metadata": {
            "tags": []
          },
          "execution_count": 9
        }
      ]
    },
    {
      "cell_type": "code",
      "metadata": {
        "id": "o1phvk0mGH9v",
        "outputId": "1ef01eeb-da8b-4c6e-ad61-a9c756055969",
        "colab": {
          "base_uri": "https://localhost:8080/",
          "height": 51
        }
      },
      "source": [
        "from sklearn.linear_model import LinearRegression\n",
        "reg = LinearRegression().fit(train_inputs_flat[:-1000,:],train_outputs[:-1000])\n",
        "print(reg.score(train_inputs_flat[-1000:,:],train_outputs[-1000:]))\n",
        "ypred = reg.predict(train_inputs_flat[-1000:,:])\n",
        "np.sum((ypred - train_outputs[-1000:])*(ypred - train_outputs[-1000:]))/1000"
      ],
      "execution_count": null,
      "outputs": [
        {
          "output_type": "stream",
          "text": [
            "-0.011505315544347418\n"
          ],
          "name": "stdout"
        },
        {
          "output_type": "execute_result",
          "data": {
            "text/plain": [
              "2.83518212890625"
            ]
          },
          "metadata": {
            "tags": []
          },
          "execution_count": 10
        }
      ]
    },
    {
      "cell_type": "code",
      "metadata": {
        "id": "gz2nNHSemERy"
      },
      "source": [
        "# Prepare Eval inputs in similar way\n",
        "eval_inputs = []\n",
        "for cell in eval_cells:\n",
        "    cell_data = eval_data[cell]\n",
        "    hm_data = cell_data[:,:,1:6]\n",
        "    eval_inputs.append(hm_data)\n",
        "\n",
        "eval_inputs = np.concatenate(eval_inputs, axis=0)\n",
        "\n",
        "eval_inputs_flat = eval_inputs.reshape(-1,500)\n",
        "\n",
        "\n",
        "# Example submission of predicted values\n",
        "import pandas as pd\n",
        "\n",
        "cell_list = []\n",
        "gene_list = []\n",
        "#example_eval_preds = np.random.randn(len(eval_inputs))\n",
        "eval_preds = reg.predict(eval_inputs_flat)\n",
        "for cell in eval_cells:\n",
        "    cell_data = eval_data[cell]\n",
        "    cell_list.extend([cell]*len(cell_data))\n",
        "    genes = cell_data[:,0,0].astype('int32')\n",
        "    gene_list.extend(genes)\n",
        "\n",
        "id_column = [] # ID is {cell type}_{gene id}\n",
        "for idx in range(len(eval_inputs)):\n",
        "    id_column.append(f'{cell_list[idx]}_{gene_list[idx]}')\n",
        "\n",
        "df_data = {'id': id_column, 'expression' : example_eval_preds}\n",
        "submit_df = pd.DataFrame(data=df_data)\n",
        "\n",
        "submit_df.to_csv('linreg_submission.csv', header=True, index=False, index_label=False)"
      ],
      "execution_count": null,
      "outputs": []
    },
    {
      "cell_type": "code",
      "metadata": {
        "id": "tBhPRwbfH7yd"
      },
      "source": [
        "from sklearn.neighbors import KNeighborsRegressor, RadiusNeighborsRegressor, DistanceMetric\n",
        "knn = KNeighborsRegressor(n_neighbors = 5, weights = 'uniform')\n",
        "knn.fit(train_inputs_flat[:-1000,:], train_outputs[:-1000])\n",
        "knn_accuracy = knn.score(train_inputs_flat[-1000:], train_outputs[-1000:])\n",
        "print(\"The R^2 value is \",knn_accuracy)"
      ],
      "execution_count": null,
      "outputs": []
    },
    {
      "cell_type": "code",
      "metadata": {
        "id": "IRCqKjd-LEii",
        "outputId": "3e905f09-c62d-42ba-d168-b0d0f8765ea3",
        "colab": {
          "base_uri": "https://localhost:8080/",
          "height": 34
        }
      },
      "source": [
        "from sklearn.ensemble import RandomForestRegressor\n",
        "rf = RandomForestRegressor(n_estimators = 70, max_depth = 15, n_jobs=-1)\n",
        "rf.fit(train_inputs_flat[:750000,:],train_outputs[:750000])\n",
        "rf_accuracy = rf.score(train_inputs_flat[750000:,:],train_outputs[750000:])\n",
        "print('The R^2 value is ',rf_accuracy)"
      ],
      "execution_count": null,
      "outputs": [
        {
          "output_type": "stream",
          "text": [
            "The R^2 value is  0.04075189112004518\n"
          ],
          "name": "stdout"
        }
      ]
    },
    {
      "cell_type": "code",
      "metadata": {
        "id": "z3WrqaiH4PEm"
      },
      "source": [
        "from sklearn.ensemble import RandomForestRegressor\n",
        "rf = RandomForestRegressor(n_estimators = 70, max_depth = 15, n_jobs=-1)\n",
        "rf.fit(train_inputs_flat[:750000,:],train_outputs[:750000])\n",
        "rf_accuracy = rf.score(train_inputs_flat[750000:,:],train_outputs[750000:])\n",
        "print('The R^2 value is ',rf_accuracy)"
      ],
      "execution_count": null,
      "outputs": []
    },
    {
      "cell_type": "code",
      "metadata": {
        "id": "2dcK85jc4lUM",
        "outputId": "e9e2b443-6210-4f34-9958-8a53eee27088",
        "colab": {
          "base_uri": "https://localhost:8080/",
          "height": 34
        }
      },
      "source": [
        "from sklearn.ensemble import RandomForestRegressor\n",
        "rf = RandomForestRegressor(n_estimators = 200, max_depth = 15, n_jobs=-1)\n",
        "rf.fit(train_inputs_flat[:750000,:],train_outputs[:750000])\n",
        "rf_accuracy = rf.score(train_inputs_flat[750000:,:],train_outputs[750000:])\n",
        "print('The R^2 value is ',rf_accuracy)\n",
        "\n",
        "# Prepare Eval inputs in similar way\n",
        "eval_inputs = []\n",
        "for cell in eval_cells:\n",
        "    cell_data = eval_data[cell]\n",
        "    hm_data = cell_data[:,:,1:6]\n",
        "    eval_inputs.append(hm_data)\n",
        "\n",
        "eval_inputs = np.concatenate(eval_inputs, axis=0)\n",
        "\n",
        "eval_inputs_flat = eval_inputs.reshape(-1,500)\n",
        "\n",
        "\n",
        "# Example submission of predicted values\n",
        "import pandas as pd\n",
        "\n",
        "cell_list = []\n",
        "gene_list = []\n",
        "#example_eval_preds = np.random.randn(len(eval_inputs))\n",
        "eval_preds = reg.predict(eval_inputs_flat)\n",
        "for cell in eval_cells:\n",
        "    cell_data = eval_data[cell]\n",
        "    cell_list.extend([cell]*len(cell_data))\n",
        "    genes = cell_data[:,0,0].astype('int32')\n",
        "    gene_list.extend(genes)\n",
        "\n",
        "id_column = [] # ID is {cell type}_{gene id}\n",
        "for idx in range(len(eval_inputs)):\n",
        "    id_column.append(f'{cell_list[idx]}_{gene_list[idx]}')\n",
        "\n",
        "df_data = {'id': id_column, 'expression' : example_eval_preds}\n",
        "submit_df = pd.DataFrame(data=df_data)\n",
        "\n",
        "submit_df.to_csv('forrest_submission2.csv', header=True, index=False, index_label=False)"
      ],
      "execution_count": null,
      "outputs": [
        {
          "output_type": "stream",
          "text": [
            "The R^2 value is  0.06895683218168613\n"
          ],
          "name": "stdout"
        }
      ]
    }
  ]
}